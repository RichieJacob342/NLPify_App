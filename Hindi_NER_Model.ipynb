{
  "nbformat": 4,
  "nbformat_minor": 0,
  "metadata": {
    "accelerator": "GPU",
    "colab": {
      "name": "Hindi-NER-Model.ipynb",
      "provenance": []
    },
    "kernelspec": {
      "display_name": "Python 3",
      "name": "python3"
    },
    "language_info": {
      "name": "python"
    }
  },
  "cells": [
    {
      "cell_type": "code",
      "metadata": {
        "colab": {
          "base_uri": "https://localhost:8080/"
        },
        "id": "5ydliXJr6btq",
        "outputId": "d27c8353-ce8a-48ee-ca41-96dd42f63eaf"
      },
      "source": [
        "from google.colab import drive\n",
        "drive.mount('/content/drive')"
      ],
      "execution_count": null,
      "outputs": [
        {
          "output_type": "stream",
          "text": [
            "Mounted at /content/drive\n"
          ],
          "name": "stdout"
        }
      ]
    },
    {
      "cell_type": "code",
      "metadata": {
        "id": "n8HT8ycjCWrI"
      },
      "source": [
        "from CoNLL2Spacy import *"
      ],
      "execution_count": null,
      "outputs": []
    },
    {
      "cell_type": "code",
      "metadata": {
        "colab": {
          "base_uri": "https://localhost:8080/"
        },
        "id": "E4EEN8eqChN2",
        "outputId": "9dda3e3e-2fe9-4b6e-bd7f-f20824d8ac00"
      },
      "source": [
        "file = open(\"/content/drive/MyDrive/mini-dataset/Data/nertrnweather.txt\", \"r\",encoding = \"utf-8\") \n",
        "valList = []\n",
        "for line in file:\n",
        "    valList.append(line[:-1])\n",
        "valList[:20]"
      ],
      "execution_count": null,
      "outputs": [
        {
          "output_type": "execute_result",
          "data": {
            "text/plain": [
              "['अरे O',\n",
              " 'सारथी O',\n",
              " 'जम्मू U-location',\n",
              " 'कैसा O',\n",
              " 'मौसम O',\n",
              " 'है O',\n",
              " '',\n",
              " 'अभी U-date',\n",
              " 'दिल्ली U-location',\n",
              " 'में O',\n",
              " 'कैसा O',\n",
              " 'मौसम O',\n",
              " 'है O',\n",
              " '',\n",
              " 'आज U-date',\n",
              " 'के O',\n",
              " 'लिए O',\n",
              " 'मौसम O',\n",
              " 'रिपोर्ट O',\n",
              " 'बताओ O']"
            ]
          },
          "metadata": {
            "tags": []
          },
          "execution_count": 4
        }
      ]
    },
    {
      "cell_type": "code",
      "metadata": {
        "id": "j8qzd_sMC5Bg"
      },
      "source": [
        "TEST_DATA = conll2spacy(valList)"
      ],
      "execution_count": null,
      "outputs": []
    },
    {
      "cell_type": "code",
      "metadata": {
        "colab": {
          "base_uri": "https://localhost:8080/"
        },
        "id": "4B9cXIe9C9J4",
        "outputId": "617ad839-d327-4b94-f6a0-520adedf5b10"
      },
      "source": [
        "file = open(\"/content/drive/MyDrive/mini-dataset/Data/nertrnweather.txt\", \"r\",encoding = \"utf-8\") \n",
        "trainList = []\n",
        "for line in file:\n",
        "    trainList.append(line[:-1])\n",
        "trainList[:20]"
      ],
      "execution_count": null,
      "outputs": [
        {
          "output_type": "execute_result",
          "data": {
            "text/plain": [
              "['अरे O',\n",
              " 'सारथी O',\n",
              " 'जम्मू U-location',\n",
              " 'कैसा O',\n",
              " 'मौसम O',\n",
              " 'है O',\n",
              " '',\n",
              " 'अभी U-date',\n",
              " 'दिल्ली U-location',\n",
              " 'में O',\n",
              " 'कैसा O',\n",
              " 'मौसम O',\n",
              " 'है O',\n",
              " '',\n",
              " 'आज U-date',\n",
              " 'के O',\n",
              " 'लिए O',\n",
              " 'मौसम O',\n",
              " 'रिपोर्ट O',\n",
              " 'बताओ O']"
            ]
          },
          "metadata": {
            "tags": []
          },
          "execution_count": 7
        }
      ]
    },
    {
      "cell_type": "code",
      "metadata": {
        "id": "Iw6zvvrWDD1b"
      },
      "source": [
        "TRAIN_DATA = conll2spacy(trainList)"
      ],
      "execution_count": null,
      "outputs": []
    },
    {
      "cell_type": "code",
      "metadata": {
        "id": "PDVHAYQHDKQ0"
      },
      "source": [
        ""
      ],
      "execution_count": null,
      "outputs": []
    },
    {
      "cell_type": "code",
      "metadata": {
        "id": "LyBh_n_XDQ-C"
      },
      "source": [
        "import spacy\n",
        "import numpy\n",
        "import pickle"
      ],
      "execution_count": null,
      "outputs": []
    },
    {
      "cell_type": "code",
      "metadata": {
        "id": "J8GBbpGfDSi1"
      },
      "source": [
        "lang = \"hi\"\n",
        "vectors_loc = \"/content/drive/MyDrive/mini-dataset/Data/fasttextwiki/wiki.hi.vec\"\n",
        "nlp = spacy.blank(lang)    \n",
        "with open(vectors_loc, \"rb\") as file_:        \n",
        "    header = file_.readline()        \n",
        "    nr_row, nr_dim = header.split()        \n",
        "    nlp.vocab.reset_vectors(width=int(nr_dim))        \n",
        "    for line in file_:            \n",
        "        line = line.rstrip().decode(\"utf8\")            \n",
        "        pieces = line.rsplit(\" \", int(nr_dim))            \n",
        "        word = pieces[0]            \n",
        "        vector = numpy.asarray([float(v) for v in pieces[1:]], dtype=\"f\")            \n",
        "        nlp.vocab.set_vector(word, vector)  # add the vectors to the vocab   "
      ],
      "execution_count": null,
      "outputs": []
    },
    {
      "cell_type": "code",
      "metadata": {
        "colab": {
          "base_uri": "https://localhost:8080/"
        },
        "id": "pp_oJuCHDdW5",
        "outputId": "4f6c6f69-ed5a-4535-f07b-3d86d0dbc620"
      },
      "source": [
        "text = \"भारी बारिश के कारण आज कार्यालय बंद रहेगा\"    \n",
        "doc = nlp(text)    \n",
        "print(\"similarity btw\",doc[0] , \"and\", doc[3],\" :-\", doc[0].similarity(doc[3]))"
      ],
      "execution_count": null,
      "outputs": [
        {
          "output_type": "stream",
          "text": [
            "similarity btw भारी and कारण  :- 0.41513643\n"
          ],
          "name": "stdout"
        }
      ]
    },
    {
      "cell_type": "code",
      "metadata": {
        "id": "rYKV4y6ADiDB"
      },
      "source": [
        ""
      ],
      "execution_count": null,
      "outputs": []
    },
    {
      "cell_type": "code",
      "metadata": {
        "id": "5ltxx7S9DiP6"
      },
      "source": [
        "import spacy\n",
        "import random # random function for to remove bais in Traning Data\n",
        "\n",
        "# for batch parsing \n",
        "from spacy.util import minibatch, compounding\n",
        "\n",
        "# For evaluateing the model from testing set\n",
        "from spacy.gold import GoldParse\n",
        "from spacy.scorer import Scorer"
      ],
      "execution_count": null,
      "outputs": []
    },
    {
      "cell_type": "code",
      "metadata": {
        "id": "zBH7j_epDmU-"
      },
      "source": [
        "def train_spacy(TRAIN_DATA,TEST_DATA,iterations,droprate = 0.5,modelName = \"modelTrained\"):\n",
        "\n",
        "    # loading hindi model and using vector from fasttext\n",
        "    lang = \"hi\"\n",
        "    vectors_loc = \"/content/drive/MyDrive/mini-dataset/Data/fasttextwiki/wiki.hi.vec\"\n",
        "    modiner = spacy.blank(lang)    \n",
        "    with open(vectors_loc, \"rb\") as file_:        \n",
        "        header = file_.readline()        \n",
        "        nr_row, nr_dim = header.split()        \n",
        "        modiner.vocab.reset_vectors(width=int(nr_dim))        \n",
        "        for line in file_:            \n",
        "            line = line.rstrip().decode(\"utf8\")            \n",
        "            pieces = line.rsplit(\" \", int(nr_dim))            \n",
        "            word = pieces[0]            \n",
        "            vector = numpy.asarray([float(v) for v in pieces[1:]], dtype=\"f\")            \n",
        "            modiner.vocab.set_vector(word, vector)  # add the vectors to the vocab    \n",
        "\n",
        "#     modiner = spacy.blank('en')  # create blank Language class\n",
        "    \n",
        "    # create the built-in pipeline components and add them to the pipeline\n",
        "    # nlp.create_pipe works for built-ins that are registered with spaCy\n",
        "    if 'ner' not in modiner.pipe_names:\n",
        "        ner = modiner.create_pipe('ner')\n",
        "        modiner.add_pipe(ner, last=True)\n",
        "     \n",
        "    # setting up f1score\n",
        "    f1score = 0.0000\n",
        "\n",
        "    \n",
        "    # add labels that will be involved in training \n",
        "    for _, annotations in TRAIN_DATA:\n",
        "         for ent in annotations.get('entities'):\n",
        "            ner.add_label(ent[2])\n",
        "            \n",
        "\n",
        "    # get names of other pipes to disable them during training\n",
        "    other_pipes = [pipe for pipe in modiner.pipe_names if pipe != 'ner']\n",
        "    with modiner.disable_pipes(*other_pipes):  # only train NER\n",
        "        optimizer = modiner.begin_training()\n",
        "        \n",
        "        # --Iterations Starts--\n",
        "        for itn in range(iterations):\n",
        "            print(\"Starting iteration \" + str(itn))\n",
        "            #--Shuffling Traning Data--\n",
        "            random.shuffle(TRAIN_DATA)\n",
        "            losses = {}\n",
        "            \n",
        "                      \n",
        "                    \n",
        "            # batch Traning For better Training and Learning of model\n",
        "            batches = minibatch(TRAIN_DATA, size=compounding(2.0, 16.0, 1.01))\n",
        "            for batch in batches:\n",
        "                texts, annotations = zip(*batch)\n",
        "                modiner.update(\n",
        "                    texts,  # batch of texts\n",
        "                    annotations,  # batch of annotations\n",
        "                    drop=droprate,  # dropout - make it harder to memorise data\n",
        "                    losses=losses,\n",
        "                )\n",
        "            print(losses)\n",
        "            \n",
        "            \n",
        "            # Evaluating the Current Model Score on test data\n",
        "            results = evaluate(modiner, TEST_DATA)\n",
        "            print(\"Current Score :-\",results[\"ents_f\"], \"Precision  :-\",results[\"ents_p\"], \"Recall  :-\",results[\"ents_r\"])\n",
        "            \n",
        "\n",
        "            \n",
        "            # loading previous best saved model in start of traning \n",
        "            if f1score == 0.00:\n",
        "                try:                    \n",
        "                    pnlp = spacy.load(modelName)\n",
        "                    result = evaluate(pnlp, TEST_DATA) # calling evaluate function \n",
        "                    f1score = result[\"ents_f\"]\n",
        "                except:\n",
        "                    print(\"Previous Model not found\")\n",
        "                    \n",
        "            print(\"Best Sccore :- \",f1score)\n",
        "            print(\"------------------------------------\")\n",
        "            # finding out the best score\n",
        "            if f1score < results[\"ents_f\"]:\n",
        "                f1score = results[\"ents_f\"]\n",
        "                \n",
        "                # Save our trained Model if the score if grater than best score else no change in previous model\n",
        "                modiner.to_disk(modelName)\n",
        "                \n",
        "    print(\"-----Best Model is Saved-----\")\n"
      ],
      "execution_count": null,
      "outputs": []
    },
    {
      "cell_type": "code",
      "metadata": {
        "id": "1SG--wC1D9fx"
      },
      "source": [
        "def evaluate(ner_model, examples):\n",
        "    scorer = Scorer()\n",
        "     \n",
        "    #loading tags for each input and Evaluating them\n",
        "    for input_, annotations in examples:\n",
        "        tags = []\n",
        "        # loading text\n",
        "        doc_gold_text = ner_model.make_doc(input_)\n",
        "        \n",
        "        #loading all tags for that text\n",
        "        for ent in annotations.get('entities'):\n",
        "            tags.append(ent)\n",
        "            \n",
        "        # Evaluating the tags    \n",
        "        gold = GoldParse(doc_gold_text, entities=tags)\n",
        "        pred_value = ner_model(input_)\n",
        "        scorer.score(pred_value, gold)\n",
        "        \n",
        "        \n",
        "    return scorer.scores\n"
      ],
      "execution_count": null,
      "outputs": []
    },
    {
      "cell_type": "code",
      "metadata": {
        "id": "zSMm1RQGECwx"
      },
      "source": [
        "def loadNERModel(modelName = \"modelTrained\"):\n",
        "    nlp = spacy.load(modelName)\n",
        "    return nlp"
      ],
      "execution_count": null,
      "outputs": []
    },
    {
      "cell_type": "code",
      "metadata": {
        "id": "fjF3eicLEL4k"
      },
      "source": [
        "def score(model,TEST_DATA):\n",
        "    result = evaluate(model, TEST_DATA) # calling evaluate function \n",
        "    f1score = result[\"ents_f\"]\n",
        "    precision = result[\"ents_p\"]\n",
        "    recall = result[\"ents_r\"]\n",
        "    print(\"F1 score of Model is :-\",f1score)\n",
        "    print(\"Precision of Model is :-\",precision)\n",
        "    print(\"Recall of Model is :-\",recall)"
      ],
      "execution_count": null,
      "outputs": []
    },
    {
      "cell_type": "code",
      "metadata": {
        "colab": {
          "background_save": true,
          "base_uri": "https://localhost:8080/"
        },
        "id": "LrLx2a2JES1D",
        "outputId": "c6ad354f-44a0-4c7b-a579-e34bf12f5618"
      },
      "source": [
        "# traning the model with 100 iterations\n",
        "train_spacy(TRAIN_DATA,TEST_DATA, 100,droprate = 0.55, modelName = \"hindiNER\")"
      ],
      "execution_count": null,
      "outputs": [
        {
          "output_type": "stream",
          "text": [
            "/usr/lib/python3.7/runpy.py:193: UserWarning: [W020] Unnamed vectors. This won't allow multiple vectors models to be loaded. (Shape: (199336, 300))\n",
            "  \"__main__\", mod_spec)\n"
          ],
          "name": "stderr"
        },
        {
          "output_type": "stream",
          "text": [
            "Starting iteration 0\n",
            "{'ner': 808.4360901527107}\n",
            "Current Score :- 0.0 Precision  :- 0.0 Recall  :- 0.0\n",
            "Previous Model not found\n",
            "Best Sccore :-  0.0\n",
            "------------------------------------\n",
            "Starting iteration 1\n",
            "{'ner': 500.7508350031899}\n",
            "Current Score :- 70.32474804031355 Precision  :- 72.01834862385321 Recall  :- 68.7089715536105\n",
            "Previous Model not found\n",
            "Best Sccore :-  0.0\n",
            "------------------------------------\n",
            "Starting iteration 2\n",
            "{'ner': 333.01709009824174}\n",
            "Current Score :- 83.71584699453551 Precision  :- 83.62445414847161 Recall  :- 83.80743982494529\n",
            "Best Sccore :-  70.32474804031355\n",
            "------------------------------------\n",
            "Starting iteration 3\n",
            "{'ner': 215.93908924260512}\n",
            "Current Score :- 89.247311827957 Precision  :- 87.73784355179704 Recall  :- 90.80962800875274\n",
            "Best Sccore :-  83.71584699453551\n",
            "------------------------------------\n",
            "Starting iteration 4\n",
            "{'ner': 178.41262751439854}\n",
            "Current Score :- 93.73650107991361 Precision  :- 92.53731343283582 Recall  :- 94.9671772428884\n",
            "Best Sccore :-  89.247311827957\n",
            "------------------------------------\n",
            "Starting iteration 5\n",
            "{'ner': 166.46800754867442}\n",
            "Current Score :- 92.95774647887323 Precision  :- 92.06008583690986 Recall  :- 93.8730853391685\n",
            "Best Sccore :-  93.73650107991361\n",
            "------------------------------------\n",
            "Starting iteration 6\n",
            "{'ner': 133.58313434583144}\n",
            "Current Score :- 95.37136706135631 Precision  :- 93.85593220338984 Recall  :- 96.93654266958424\n",
            "Best Sccore :-  93.73650107991361\n",
            "------------------------------------\n",
            "Starting iteration 7\n",
            "{'ner': 110.93407735078866}\n",
            "Current Score :- 96.74620390455532 Precision  :- 95.91397849462365 Recall  :- 97.59299781181619\n",
            "Best Sccore :-  95.37136706135631\n",
            "------------------------------------\n",
            "Starting iteration 8\n",
            "{'ner': 88.23613604173522}\n",
            "Current Score :- 96.52173913043478 Precision  :- 95.8963282937365 Recall  :- 97.15536105032822\n",
            "Best Sccore :-  96.74620390455532\n",
            "------------------------------------\n",
            "Starting iteration 9\n",
            "{'ner': 87.72780868408148}\n",
            "Current Score :- 96.95652173913044 Precision  :- 96.32829373650108 Recall  :- 97.59299781181619\n",
            "Best Sccore :-  96.74620390455532\n",
            "------------------------------------\n",
            "Starting iteration 10\n",
            "{'ner': 68.6098968060216}\n",
            "Current Score :- 96.85124864277958 Precision  :- 96.12068965517241 Recall  :- 97.59299781181619\n",
            "Best Sccore :-  96.95652173913044\n",
            "------------------------------------\n",
            "Starting iteration 11\n",
            "{'ner': 70.11904778126294}\n",
            "Current Score :- 96.96969696969695 Precision  :- 95.93147751605996 Recall  :- 98.03063457330416\n",
            "Best Sccore :-  96.95652173913044\n",
            "------------------------------------\n",
            "Starting iteration 12\n",
            "{'ner': 90.00761115183548}\n",
            "Current Score :- 97.1677559912854 Precision  :- 96.74620390455532 Recall  :- 97.59299781181619\n",
            "Best Sccore :-  96.96969696969695\n",
            "------------------------------------\n",
            "Starting iteration 13\n",
            "{'ner': 78.30673856687046}\n",
            "Current Score :- 96.94323144104803 Precision  :- 96.73202614379085 Recall  :- 97.15536105032822\n",
            "Best Sccore :-  97.1677559912854\n",
            "------------------------------------\n",
            "Starting iteration 14\n",
            "{'ner': 61.356453318021956}\n",
            "Current Score :- 97.0620239390642 Precision  :- 96.53679653679653 Recall  :- 97.59299781181619\n",
            "Best Sccore :-  97.1677559912854\n",
            "------------------------------------\n",
            "Starting iteration 15\n",
            "{'ner': 65.96950505044111}\n",
            "Current Score :- 97.48633879781421 Precision  :- 97.37991266375546 Recall  :- 97.59299781181619\n",
            "Best Sccore :-  97.1677559912854\n",
            "------------------------------------\n",
            "Starting iteration 16\n",
            "{'ner': 77.84206065126152}\n",
            "Current Score :- 97.1677559912854 Precision  :- 96.74620390455532 Recall  :- 97.59299781181619\n",
            "Best Sccore :-  97.48633879781421\n",
            "------------------------------------\n",
            "Starting iteration 17\n",
            "{'ner': 55.31659027547513}\n",
            "Current Score :- 97.59825327510917 Precision  :- 97.38562091503267 Recall  :- 97.81181619256017\n",
            "Best Sccore :-  97.48633879781421\n",
            "------------------------------------\n",
            "Starting iteration 18\n",
            "{'ner': 54.61307991272327}\n",
            "Current Score :- 97.27965179542981 Precision  :- 96.75324675324676 Recall  :- 97.81181619256017\n",
            "Best Sccore :-  97.59825327510917\n",
            "------------------------------------\n",
            "Starting iteration 19\n",
            "{'ner': 75.09594942958222}\n",
            "Current Score :- 97.4918211559433 Precision  :- 97.17391304347827 Recall  :- 97.81181619256017\n",
            "Best Sccore :-  97.59825327510917\n",
            "------------------------------------\n",
            "Starting iteration 20\n",
            "{'ner': 73.39357295720997}\n",
            "Current Score :- 97.69989047097481 Precision  :- 97.80701754385966 Recall  :- 97.59299781181619\n",
            "Best Sccore :-  97.59825327510917\n",
            "------------------------------------\n",
            "Starting iteration 21\n",
            "{'ner': 50.53396597917806}\n",
            "Current Score :- 97.4918211559433 Precision  :- 97.17391304347827 Recall  :- 97.81181619256017\n",
            "Best Sccore :-  97.69989047097481\n",
            "------------------------------------\n",
            "Starting iteration 22\n",
            "{'ner': 45.652423850876005}\n",
            "Current Score :- 97.59825327510917 Precision  :- 97.38562091503267 Recall  :- 97.81181619256017\n",
            "Best Sccore :-  97.69989047097481\n",
            "------------------------------------\n",
            "Starting iteration 23\n",
            "{'ner': 54.0326449315026}\n",
            "Current Score :- 97.92349726775956 Precision  :- 97.81659388646288 Recall  :- 98.03063457330416\n",
            "Best Sccore :-  97.69989047097481\n",
            "------------------------------------\n",
            "Starting iteration 24\n",
            "{'ner': 45.82080982815117}\n",
            "Current Score :- 97.3741794310722 Precision  :- 97.3741794310722 Recall  :- 97.3741794310722\n",
            "Best Sccore :-  97.92349726775956\n",
            "------------------------------------\n",
            "Starting iteration 25\n",
            "{'ner': 53.747531330906675}\n",
            "Current Score :- 97.81659388646288 Precision  :- 97.60348583877996 Recall  :- 98.03063457330416\n",
            "Best Sccore :-  97.92349726775956\n",
            "------------------------------------\n",
            "Starting iteration 26\n",
            "{'ner': 47.199305725198855}\n",
            "Current Score :- 97.91894852135816 Precision  :- 98.02631578947368 Recall  :- 97.81181619256017\n",
            "Best Sccore :-  97.92349726775956\n",
            "------------------------------------\n",
            "Starting iteration 27\n",
            "{'ner': 48.32671868783379}\n",
            "Current Score :- 98.46827133479212 Precision  :- 98.46827133479212 Recall  :- 98.46827133479212\n",
            "Best Sccore :-  97.92349726775956\n",
            "------------------------------------\n",
            "Starting iteration 28\n",
            "{'ner': 64.56267157495151}\n",
            "Current Score :- 98.24945295404814 Precision  :- 98.24945295404814 Recall  :- 98.24945295404814\n",
            "Best Sccore :-  98.46827133479212\n",
            "------------------------------------\n",
            "Starting iteration 29\n",
            "{'ner': 34.83586678386461}\n",
            "Current Score :- 98.46491228070177 Precision  :- 98.68131868131869 Recall  :- 98.24945295404814\n",
            "Best Sccore :-  98.46827133479212\n",
            "------------------------------------\n",
            "Starting iteration 30\n",
            "{'ner': 46.655283762793296}\n",
            "Current Score :- 98.36065573770492 Precision  :- 98.2532751091703 Recall  :- 98.46827133479212\n",
            "Best Sccore :-  98.46827133479212\n",
            "------------------------------------\n",
            "Starting iteration 31\n",
            "{'ner': 53.53190649299336}\n",
            "Current Score :- 98.36423118865866 Precision  :- 98.04347826086956 Recall  :- 98.6870897155361\n",
            "Best Sccore :-  98.46827133479212\n",
            "------------------------------------\n",
            "Starting iteration 32\n",
            "{'ner': 35.300753643533035}\n",
            "Current Score :- 98.13800657174151 Precision  :- 98.24561403508771 Recall  :- 98.03063457330416\n",
            "Best Sccore :-  98.46827133479212\n",
            "------------------------------------\n",
            "Starting iteration 33\n",
            "{'ner': 43.0899217516514}\n",
            "Current Score :- 98.47161572052401 Precision  :- 98.25708061002179 Recall  :- 98.6870897155361\n",
            "Best Sccore :-  98.46827133479212\n",
            "------------------------------------\n",
            "Starting iteration 34\n",
            "{'ner': 47.05428884872709}\n",
            "Current Score :- 98.58233369683751 Precision  :- 98.26086956521739 Recall  :- 98.90590809628009\n",
            "Best Sccore :-  98.47161572052401\n",
            "------------------------------------\n",
            "Starting iteration 35\n",
            "{'ner': 35.37940127978671}\n",
            "Current Score :- 98.57299670691549 Precision  :- 98.89867841409692 Recall  :- 98.24945295404814\n",
            "Best Sccore :-  98.58233369683751\n",
            "------------------------------------\n",
            "Starting iteration 36\n",
            "{'ner': 59.01538635492464}\n",
            "Current Score :- 98.6870897155361 Precision  :- 98.6870897155361 Recall  :- 98.6870897155361\n",
            "Best Sccore :-  98.58233369683751\n",
            "------------------------------------\n",
            "Starting iteration 37\n",
            "{'ner': 42.713286077618946}\n",
            "Current Score :- 99.45115257958288 Precision  :- 99.77973568281938 Recall  :- 99.12472647702407\n",
            "Best Sccore :-  98.6870897155361\n",
            "------------------------------------\n",
            "Starting iteration 38\n",
            "{'ner': 55.80627808813398}\n",
            "Current Score :- 99.34210526315789 Precision  :- 99.56043956043956 Recall  :- 99.12472647702407\n",
            "Best Sccore :-  99.45115257958288\n",
            "------------------------------------\n",
            "Starting iteration 39\n",
            "{'ner': 37.62940851596763}\n",
            "Current Score :- 98.57612267250822 Precision  :- 98.68421052631578 Recall  :- 98.46827133479212\n",
            "Best Sccore :-  99.45115257958288\n",
            "------------------------------------\n",
            "Starting iteration 40\n",
            "{'ner': 37.20599838867128}\n",
            "Current Score :- 98.90350877192982 Precision  :- 99.12087912087912 Recall  :- 98.6870897155361\n",
            "Best Sccore :-  99.45115257958288\n",
            "------------------------------------\n",
            "Starting iteration 41\n",
            "{'ner': 36.000566097721254}\n",
            "Current Score :- 98.57299670691549 Precision  :- 98.89867841409692 Recall  :- 98.24945295404814\n",
            "Best Sccore :-  99.45115257958288\n",
            "------------------------------------\n",
            "Starting iteration 42\n",
            "{'ner': 44.417145535264616}\n",
            "Current Score :- 98.80043620501635 Precision  :- 98.47826086956522 Recall  :- 99.12472647702407\n",
            "Best Sccore :-  99.45115257958288\n",
            "------------------------------------\n",
            "Starting iteration 43\n",
            "{'ner': 30.506602118164032}\n",
            "Current Score :- 98.80043620501635 Precision  :- 98.47826086956522 Recall  :- 99.12472647702407\n",
            "Best Sccore :-  99.45115257958288\n",
            "------------------------------------\n",
            "Starting iteration 44\n",
            "{'ner': 32.83935833827661}\n",
            "Current Score :- 99.0185387131952 Precision  :- 98.69565217391305 Recall  :- 99.34354485776805\n",
            "Best Sccore :-  99.45115257958288\n",
            "------------------------------------\n",
            "Starting iteration 45\n",
            "{'ner': 27.103491819654028}\n",
            "Current Score :- 99.01639344262296 Precision  :- 98.90829694323145 Recall  :- 99.12472647702407\n",
            "Best Sccore :-  99.45115257958288\n",
            "------------------------------------\n",
            "Starting iteration 46\n",
            "{'ner': 36.91777818329297}\n",
            "Current Score :- 99.01423877327493 Precision  :- 99.12280701754386 Recall  :- 98.90590809628009\n",
            "Best Sccore :-  99.45115257958288\n",
            "------------------------------------\n",
            "Starting iteration 47\n",
            "{'ner': 35.27145664703456}\n",
            "Current Score :- 99.672131147541 Precision  :- 99.56331877729258 Recall  :- 99.78118161925602\n",
            "Best Sccore :-  99.45115257958288\n",
            "------------------------------------\n",
            "Starting iteration 48\n",
            "{'ner': 36.9375350859662}\n",
            "Current Score :- 99.23830250272036 Precision  :- 98.7012987012987 Recall  :- 99.78118161925602\n",
            "Best Sccore :-  99.672131147541\n",
            "------------------------------------\n",
            "Starting iteration 49\n",
            "{'ner': 50.77062987780638}\n",
            "Current Score :- 99.34210526315789 Precision  :- 99.56043956043956 Recall  :- 99.12472647702407\n",
            "Best Sccore :-  99.672131147541\n",
            "------------------------------------\n",
            "Starting iteration 50\n",
            "{'ner': 46.94364919051273}\n",
            "Current Score :- 99.56140350877193 Precision  :- 99.78021978021978 Recall  :- 99.34354485776805\n",
            "Best Sccore :-  99.672131147541\n",
            "------------------------------------\n",
            "Starting iteration 51\n",
            "{'ner': 29.345938788202837}\n",
            "Current Score :- 99.45235487404163 Precision  :- 99.56140350877193 Recall  :- 99.34354485776805\n",
            "Best Sccore :-  99.672131147541\n",
            "------------------------------------\n",
            "Starting iteration 52\n",
            "{'ner': 42.214194149450954}\n",
            "Current Score :- 98.90590809628009 Precision  :- 98.90590809628009 Recall  :- 98.90590809628009\n",
            "Best Sccore :-  99.672131147541\n",
            "------------------------------------\n",
            "Starting iteration 53\n",
            "{'ner': 28.373486654338933}\n",
            "Current Score :- 99.23497267759564 Precision  :- 99.12663755458514 Recall  :- 99.34354485776805\n",
            "Best Sccore :-  99.672131147541\n",
            "------------------------------------\n",
            "Starting iteration 54\n",
            "{'ner': 25.667294392068065}\n",
            "Current Score :- 98.58233369683751 Precision  :- 98.26086956521739 Recall  :- 98.90590809628009\n",
            "Best Sccore :-  99.672131147541\n",
            "------------------------------------\n",
            "Starting iteration 55\n",
            "{'ner': 23.96032382188014}\n",
            "Current Score :- 99.01207464324916 Precision  :- 99.33920704845815 Recall  :- 98.6870897155361\n",
            "Best Sccore :-  99.672131147541\n",
            "------------------------------------\n",
            "Starting iteration 56\n",
            "{'ner': 38.772582717834524}\n",
            "Current Score :- 99.12472647702407 Precision  :- 99.12472647702407 Recall  :- 99.12472647702407\n",
            "Best Sccore :-  99.672131147541\n",
            "------------------------------------\n",
            "Starting iteration 57\n",
            "{'ner': 39.571730687095155}\n",
            "Current Score :- 99.34210526315789 Precision  :- 99.56043956043956 Recall  :- 99.12472647702407\n",
            "Best Sccore :-  99.672131147541\n",
            "------------------------------------\n",
            "Starting iteration 58\n",
            "{'ner': 32.44269243337953}\n",
            "Current Score :- 99.78118161925602 Precision  :- 99.78118161925602 Recall  :- 99.78118161925602\n",
            "Best Sccore :-  99.672131147541\n",
            "------------------------------------\n",
            "Starting iteration 59\n",
            "{'ner': 42.38373245829832}\n",
            "Current Score :- 99.67141292442497 Precision  :- 99.78070175438597 Recall  :- 99.56236323851203\n",
            "Best Sccore :-  99.78118161925602\n",
            "------------------------------------\n",
            "Starting iteration 60\n",
            "{'ner': 44.138145325472486}\n",
            "Current Score :- 99.672131147541 Precision  :- 99.56331877729258 Recall  :- 99.78118161925602\n",
            "Best Sccore :-  99.78118161925602\n",
            "------------------------------------\n",
            "Starting iteration 61\n",
            "{'ner': 9.421948918746912}\n",
            "Current Score :- 99.78118161925602 Precision  :- 99.78118161925602 Recall  :- 99.78118161925602\n",
            "Best Sccore :-  99.78118161925602\n",
            "------------------------------------\n",
            "Starting iteration 62\n",
            "{'ner': 36.465469127213005}\n",
            "Current Score :- 99.78165938864628 Precision  :- 99.56427015250546 Recall  :- 100.0\n",
            "Best Sccore :-  99.78118161925602\n",
            "------------------------------------\n",
            "Starting iteration 63\n",
            "{'ner': 33.142717963518926}\n",
            "Current Score :- 99.56140350877193 Precision  :- 99.78021978021978 Recall  :- 99.34354485776805\n",
            "Best Sccore :-  99.78165938864628\n",
            "------------------------------------\n",
            "Starting iteration 64\n",
            "{'ner': 23.955229457346988}\n",
            "Current Score :- 99.56140350877193 Precision  :- 99.78021978021978 Recall  :- 99.34354485776805\n",
            "Best Sccore :-  99.78165938864628\n",
            "------------------------------------\n",
            "Starting iteration 65\n",
            "{'ner': 17.55874285849365}\n",
            "Current Score :- 99.56331877729258 Precision  :- 99.34640522875817 Recall  :- 99.78118161925602\n",
            "Best Sccore :-  99.78165938864628\n",
            "------------------------------------\n",
            "Starting iteration 66\n",
            "{'ner': 35.81145102348481}\n",
            "Current Score :- 99.23329682365828 Precision  :- 99.3421052631579 Recall  :- 99.12472647702407\n",
            "Best Sccore :-  99.78165938864628\n",
            "------------------------------------\n",
            "Starting iteration 67\n",
            "{'ner': 30.210963301750304}\n",
            "Current Score :- 99.672131147541 Precision  :- 99.56331877729258 Recall  :- 99.78118161925602\n",
            "Best Sccore :-  99.78165938864628\n",
            "------------------------------------\n",
            "Starting iteration 68\n",
            "{'ner': 17.473340082022638}\n",
            "Current Score :- 99.67141292442497 Precision  :- 99.78070175438597 Recall  :- 99.56236323851203\n",
            "Best Sccore :-  99.78165938864628\n",
            "------------------------------------\n",
            "Starting iteration 69\n",
            "{'ner': 29.751985536296605}\n",
            "Current Score :- 99.34497816593885 Precision  :- 99.12854030501089 Recall  :- 99.56236323851203\n",
            "Best Sccore :-  99.78165938864628\n",
            "------------------------------------\n",
            "Starting iteration 70\n",
            "{'ner': 27.580051898923386}\n",
            "Current Score :- 99.23830250272036 Precision  :- 98.7012987012987 Recall  :- 99.78118161925602\n",
            "Best Sccore :-  99.78165938864628\n",
            "------------------------------------\n",
            "Starting iteration 71\n",
            "{'ner': 35.73979830943603}\n",
            "Current Score :- 99.672131147541 Precision  :- 99.56331877729258 Recall  :- 99.78118161925602\n",
            "Best Sccore :-  99.78165938864628\n",
            "------------------------------------\n",
            "Starting iteration 72\n",
            "{'ner': 19.88764389694735}\n",
            "Current Score :- 99.56140350877193 Precision  :- 99.78021978021978 Recall  :- 99.34354485776805\n",
            "Best Sccore :-  99.78165938864628\n",
            "------------------------------------\n",
            "Starting iteration 73\n",
            "{'ner': 26.011646133788716}\n",
            "Current Score :- 99.67141292442497 Precision  :- 99.78070175438597 Recall  :- 99.56236323851203\n",
            "Best Sccore :-  99.78165938864628\n",
            "------------------------------------\n",
            "Starting iteration 74\n",
            "{'ner': 25.640124786274164}\n",
            "Current Score :- 99.67141292442497 Precision  :- 99.78070175438597 Recall  :- 99.56236323851203\n",
            "Best Sccore :-  99.78165938864628\n",
            "------------------------------------\n",
            "Starting iteration 75\n",
            "{'ner': 31.96320163516964}\n",
            "Current Score :- 99.34640522875817 Precision  :- 98.91540130151843 Recall  :- 99.78118161925602\n",
            "Best Sccore :-  99.78165938864628\n",
            "------------------------------------\n",
            "Starting iteration 76\n",
            "{'ner': 29.751761006819287}\n",
            "Current Score :- 99.45235487404163 Precision  :- 99.56140350877193 Recall  :- 99.34354485776805\n",
            "Best Sccore :-  99.78165938864628\n",
            "------------------------------------\n",
            "Starting iteration 77\n",
            "{'ner': 23.188054389764233}\n",
            "Current Score :- 99.78118161925602 Precision  :- 99.78118161925602 Recall  :- 99.78118161925602\n",
            "Best Sccore :-  99.78165938864628\n",
            "------------------------------------\n",
            "Starting iteration 78\n",
            "{'ner': 32.26551653425231}\n",
            "Current Score :- 99.78118161925602 Precision  :- 99.78118161925602 Recall  :- 99.78118161925602\n",
            "Best Sccore :-  99.78165938864628\n",
            "------------------------------------\n",
            "Starting iteration 79\n",
            "{'ner': 24.68471036322945}\n",
            "Current Score :- 99.672131147541 Precision  :- 99.56331877729258 Recall  :- 99.78118161925602\n",
            "Best Sccore :-  99.78165938864628\n",
            "------------------------------------\n",
            "Starting iteration 80\n",
            "{'ner': 34.32035457705463}\n",
            "Current Score :- 99.89047097480832 Precision  :- 100.0 Recall  :- 99.78118161925602\n",
            "Best Sccore :-  99.78165938864628\n",
            "------------------------------------\n",
            "Starting iteration 81\n",
            "{'ner': 26.21933816788586}\n",
            "Current Score :- 100.0 Precision  :- 100.0 Recall  :- 100.0\n",
            "Best Sccore :-  99.89047097480832\n",
            "------------------------------------\n",
            "Starting iteration 82\n",
            "{'ner': 14.80770772616348}\n",
            "Current Score :- 99.89047097480832 Precision  :- 100.0 Recall  :- 99.78118161925602\n",
            "Best Sccore :-  100.0\n",
            "------------------------------------\n",
            "Starting iteration 83\n",
            "{'ner': 26.22981545429835}\n",
            "Current Score :- 99.56140350877193 Precision  :- 99.78021978021978 Recall  :- 99.34354485776805\n",
            "Best Sccore :-  100.0\n",
            "------------------------------------\n",
            "Starting iteration 84\n",
            "{'ner': 21.957737311774256}\n",
            "Current Score :- 99.67141292442497 Precision  :- 99.78070175438597 Recall  :- 99.56236323851203\n",
            "Best Sccore :-  100.0\n",
            "------------------------------------\n",
            "Starting iteration 85\n",
            "{'ner': 34.057997913917745}\n",
            "Current Score :- 99.67141292442497 Precision  :- 99.78070175438597 Recall  :- 99.56236323851203\n",
            "Best Sccore :-  100.0\n",
            "------------------------------------\n",
            "Starting iteration 86\n",
            "{'ner': 25.684834466823528}\n",
            "Current Score :- 99.672131147541 Precision  :- 99.56331877729258 Recall  :- 99.78118161925602\n",
            "Best Sccore :-  100.0\n",
            "------------------------------------\n",
            "Starting iteration 87\n",
            "{'ner': 19.115328117789474}\n",
            "Current Score :- 99.78118161925602 Precision  :- 99.78118161925602 Recall  :- 99.78118161925602\n",
            "Best Sccore :-  100.0\n",
            "------------------------------------\n",
            "Starting iteration 88\n",
            "{'ner': 15.64861063247809}\n",
            "Current Score :- 100.0 Precision  :- 100.0 Recall  :- 100.0\n",
            "Best Sccore :-  100.0\n",
            "------------------------------------\n",
            "Starting iteration 89\n",
            "{'ner': 17.422284083188785}\n",
            "Current Score :- 100.0 Precision  :- 100.0 Recall  :- 100.0\n",
            "Best Sccore :-  100.0\n",
            "------------------------------------\n",
            "Starting iteration 90\n",
            "{'ner': 33.359924470814796}\n",
            "Current Score :- 100.0 Precision  :- 100.0 Recall  :- 100.0\n",
            "Best Sccore :-  100.0\n",
            "------------------------------------\n",
            "Starting iteration 91\n",
            "{'ner': 27.045660747985718}\n",
            "Current Score :- 100.0 Precision  :- 100.0 Recall  :- 100.0\n",
            "Best Sccore :-  100.0\n",
            "------------------------------------\n",
            "Starting iteration 92\n",
            "{'ner': 24.78142386859664}\n",
            "Current Score :- 99.78118161925602 Precision  :- 99.78118161925602 Recall  :- 99.78118161925602\n",
            "Best Sccore :-  100.0\n",
            "------------------------------------\n",
            "Starting iteration 93\n",
            "{'ner': 28.594762254094412}\n",
            "Current Score :- 99.67141292442497 Precision  :- 99.78070175438597 Recall  :- 99.56236323851203\n",
            "Best Sccore :-  100.0\n",
            "------------------------------------\n",
            "Starting iteration 94\n",
            "{'ner': 16.016323264508348}\n",
            "Current Score :- 100.0 Precision  :- 100.0 Recall  :- 100.0\n",
            "Best Sccore :-  100.0\n",
            "------------------------------------\n",
            "Starting iteration 95\n",
            "{'ner': 32.70172701672199}\n",
            "Current Score :- 99.78118161925602 Precision  :- 99.78118161925602 Recall  :- 99.78118161925602\n",
            "Best Sccore :-  100.0\n",
            "------------------------------------\n",
            "Starting iteration 96\n",
            "{'ner': 30.17275553760931}\n",
            "Current Score :- 99.672131147541 Precision  :- 99.56331877729258 Recall  :- 99.78118161925602\n",
            "Best Sccore :-  100.0\n",
            "------------------------------------\n",
            "Starting iteration 97\n",
            "{'ner': 15.367483488804934}\n",
            "Current Score :- 100.0 Precision  :- 100.0 Recall  :- 100.0\n",
            "Best Sccore :-  100.0\n",
            "------------------------------------\n",
            "Starting iteration 98\n",
            "{'ner': 19.641569381158895}\n",
            "Current Score :- 100.0 Precision  :- 100.0 Recall  :- 100.0\n",
            "Best Sccore :-  100.0\n",
            "------------------------------------\n",
            "Starting iteration 99\n",
            "{'ner': 22.215219744623717}\n",
            "Current Score :- 100.0 Precision  :- 100.0 Recall  :- 100.0\n",
            "Best Sccore :-  100.0\n",
            "------------------------------------\n",
            "-----Best Model is Saved-----\n"
          ],
          "name": "stdout"
        }
      ]
    },
    {
      "cell_type": "code",
      "metadata": {
        "id": "qMuwCQfkGKFM"
      },
      "source": [
        "# loading the saved model\n",
        "pnlp = loadNERModel(\"hindiNER\")"
      ],
      "execution_count": null,
      "outputs": []
    },
    {
      "cell_type": "code",
      "metadata": {
        "colab": {
          "base_uri": "https://localhost:8080/"
        },
        "id": "117kTZEhH9kF",
        "outputId": "5f6cc651-16d5-47aa-9502-5fdd06f65fb6"
      },
      "source": [
        "# calculating the score of the model\n",
        "score(pnlp,TEST_DATA)"
      ],
      "execution_count": null,
      "outputs": [
        {
          "output_type": "stream",
          "text": [
            "F1 score of Model is :- 100.0\n",
            "Precision of Model is :- 100.0\n",
            "Recall of Model is :- 100.0\n"
          ],
          "name": "stdout"
        }
      ]
    },
    {
      "cell_type": "code",
      "metadata": {
        "id": "Vz6irwBwII7E"
      },
      "source": [
        "from spacy import displacy"
      ],
      "execution_count": null,
      "outputs": []
    },
    {
      "cell_type": "code",
      "metadata": {
        "colab": {
          "base_uri": "https://localhost:8080/",
          "height": 51
        },
        "id": "1ji-zcbjINaI",
        "outputId": "ac5614d8-4442-4cd5-cc36-83a230941f02"
      },
      "source": [
        "testcase = pnlp(\"इस मौसम में बाइक को चलाना सुरक्षित नहीं है अन्यथा यह स्किड हो जाएगी।\")\n",
        "displacy.render(testcase, style='ent', jupyter=True)"
      ],
      "execution_count": null,
      "outputs": [
        {
          "output_type": "display_data",
          "data": {
            "text/html": [
              "<span class=\"tex2jax_ignore\"><div class=\"entities\" style=\"line-height: 2.5; direction: ltr\">\n",
              "<mark class=\"entity\" style=\"background: #ddd; padding: 0.45em 0.6em; margin: 0 0.25em; line-height: 1; border-radius: 0.35em;\">\n",
              "    इस\n",
              "    <span style=\"font-size: 0.8em; font-weight: bold; line-height: 1; border-radius: 0.35em; text-transform: uppercase; vertical-align: middle; margin-left: 0.5rem\">U-date</span>\n",
              "</mark>\n",
              " मौसम में बाइक को चलाना सुरक्षित नहीं है अन्यथा यह \n",
              "<mark class=\"entity\" style=\"background: #ddd; padding: 0.45em 0.6em; margin: 0 0.25em; line-height: 1; border-radius: 0.35em;\">\n",
              "    स्किड\n",
              "    <span style=\"font-size: 0.8em; font-weight: bold; line-height: 1; border-radius: 0.35em; text-transform: uppercase; vertical-align: middle; margin-left: 0.5rem\">U-location</span>\n",
              "</mark>\n",
              " हो जाएगी।</div></span>"
            ],
            "text/plain": [
              "<IPython.core.display.HTML object>"
            ]
          },
          "metadata": {
            "tags": []
          }
        }
      ]
    }
  ]
}